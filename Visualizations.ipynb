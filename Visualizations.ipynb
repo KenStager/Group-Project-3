{
 "cells": [
  {
   "cell_type": "code",
   "execution_count": null,
   "metadata": {},
   "outputs": [],
   "source": [
    "import pandas as pd\n",
    "\n",
    "# Load the CSV file into a DataFrame\n",
    "file_path = 'path/to/your/average_metrics_by_comparison_type.csv'  # Update with the actual path\n",
    "df = pd.read_csv(file_path)\n",
    "\n",
    "# Display the first few rows of the DataFrame to understand its structure\n",
    "print(df.head())\n",
    "\n",
    "# Create variables for each row in the DataFrame\n",
    "data = {}\n",
    "for index, row in df.iterrows():\n",
    "    comparison_type = row['comparison_type']\n",
    "    data[comparison_type] = {\n",
    "        'exact_match_ratio': row['exact_match_ratio'],\n",
    "        'cosine_similarity': row['cosine_similarity'],\n",
    "        'topic_overlap': row['topic_overlap'],\n",
    "        'key_phrase_overlap': row['key_phrase_overlap'],\n",
    "        'semantic_similarity': row['semantic_similarity'],\n",
    "        'readability_difference': row['readability_difference'],\n",
    "        'sentence_length_difference': row['sentence_length_difference']\n",
    "    }\n",
    "\n",
    "# Example of accessing data for a specific comparison type\n",
    "comparison_type_example = '35 Blog from Summary to 4o Blog from Summary'\n",
    "print(data[comparison_type_example])\n"
   ]
  }
 ],
 "metadata": {
  "language_info": {
   "name": "python"
  }
 },
 "nbformat": 4,
 "nbformat_minor": 2
}
